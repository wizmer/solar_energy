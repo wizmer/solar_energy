{
 "metadata": {
  "name": "",
  "signature": "sha256:92a5213144b799b392da5679e6068c92c09e28c19822773ee794ad3216fe5997"
 },
 "nbformat": 3,
 "nbformat_minor": 0,
 "worksheets": [
  {
   "cells": [
    {
     "cell_type": "code",
     "collapsed": false,
     "input": [
      "%matplotlib inline  \n",
      "import pandas as pd\n",
      "from numpy import exp\n",
      "from scipy import optimize\n",
      "import matplotlib.pyplot as plt\n",
      "import numpy as np\n",
      "import scipy.integrate as integrate\n",
      "from math import sqrt, cos, pi, sin, acos, tan, radians, degrees\n",
      "\n",
      "\n"
     ],
     "language": "python",
     "metadata": {},
     "outputs": [],
     "prompt_number": 62
    },
    {
     "cell_type": "code",
     "collapsed": false,
     "input": [
      "df = pd.read_csv('gfig10.txt')\n",
      "fitfunc = lambda p, x: p[0] * exp(-p[1] * (p[3]*(x - p[2]) + exp(-p[3]*(x - p[2]))))\n",
      "\n",
      "errfunc = lambda p, x, y: y - fitfunc(p, x)\n",
      "p0 = [20, 1, 0.5, 4]\n",
      "p1, success = optimize.leastsq(errfunc, p0[:], args=(df['lambda'].values, df['power']))\n",
      "# x_fit = np.linspace(0, 4, 200)\n",
      "# y_fit = map(lambda x: fitfunc(p1, x), x_fit)\n",
      "# plt.plot(df['lambda'], df['power'])\n",
      "# plt.plot(x_fit, y_fit)\n",
      "# plt.xlim(0, 4)\n",
      "# plt.ylim(0, 11)\n",
      "# plt.show()"
     ],
     "language": "python",
     "metadata": {},
     "outputs": [],
     "prompt_number": 19
    },
    {
     "cell_type": "code",
     "collapsed": false,
     "input": [
      "# Normalization\n",
      "norm=integrate.quad(lambda x: fitfunc(p1,x), 0, np.inf)\n",
      "p1[0] /= norm[0]\n",
      "\n",
      "#check norm is now 1:\n",
      "print 'normized area: {}'.format(integrate.quad(lambda x: fitfunc(p1,x), 0, np.inf)[0])\n",
      "print 'Final parameters : {}'.format(p1)"
     ],
     "language": "python",
     "metadata": {},
     "outputs": [
      {
       "output_type": "stream",
       "stream": "stdout",
       "text": [
        "normized area: 1.0\n",
        "Final parameters : [  1.67954775   0.10642578   0.53590008  19.00481932]\n"
       ]
      }
     ],
     "prompt_number": 20
    },
    {
     "cell_type": "code",
     "collapsed": false,
     "input": [
      "# Finally we can approximate the solar power spectrum as \n",
      "def solar_power(x):\n",
      "    \"\"\"Power for a given wavelength. The function is normalized to 1.\"\"\"\n",
      "    return 1.68 * exp(-0.11 * (19*(x - 0.53) + exp(-19*(x - 0.53))))\n",
      "plt.plot(x_fit, map(solar_power, x_fit))\n",
      "plt.xlabel('wavelength (micro meter)')\n",
      "plt.ylabel('power (normalized)')"
     ],
     "language": "python",
     "metadata": {},
     "outputs": [
      {
       "metadata": {},
       "output_type": "pyout",
       "prompt_number": 21,
       "text": [
        "<matplotlib.text.Text at 0x7f5973ea4650>"
       ]
      },
      {
       "metadata": {},
       "output_type": "display_data",
       "png": "[encoded data removed]",
       "text": [
        "<matplotlib.figure.Figure at 0x7f5973db8390>"
       ]
      }
     ],
     "prompt_number": 21
    },
    {
     "cell_type": "heading",
     "level": 1,
     "metadata": {},
     "source": [
      "Air mass"
     ]
    },
    {
     "cell_type": "markdown",
     "metadata": {},
     "source": [
      "The air mass coefficient defines the direct optical path length through the Earth's atmosphere, expressed as a ratio relative to the path length vertically upwards, i.e. at the zenith. "
     ]
    },
    {
     "cell_type": "code",
     "collapsed": false,
     "input": [
      "# According to : https://en.wikipedia.org/wiki/Air_mass_(solar_energy)\n",
      "\n",
      "radius_earth_km = 6371 \n",
      "atm_thickness_km = 9\n",
      "ratio = radius_earth_km / atm_thickness_km\n",
      "def air_mass(z):\n",
      "    return sqrt((ratio*cos(z))**2 + 2*ratio + 1) - ratio*cos(z)\n",
      "\n",
      "angle=np.linspace(0, pi/2)\n",
      "am=map(air_mass, angle)\n",
      "plt.plot(angle, am)\n",
      "plt.xlabel('angle (radians)')\n",
      "plt.ylabel('air mass')"
     ],
     "language": "python",
     "metadata": {},
     "outputs": [
      {
       "metadata": {},
       "output_type": "pyout",
       "prompt_number": 17,
       "text": [
        "<matplotlib.text.Text at 0x7f5973de2150>"
       ]
      },
      {
       "metadata": {},
       "output_type": "display_data",
       "png": "[encoded data removed]",
       "text": [
        "<matplotlib.figure.Figure at 0x7f5973d24dd0>"
       ]
      }
     ],
     "prompt_number": 17
    },
    {
     "cell_type": "heading",
     "level": 1,
     "metadata": {},
     "source": [
      "Solar intensity"
     ]
    },
    {
     "cell_type": "code",
     "collapsed": false,
     "input": [
      "# Still according to https://en.wikipedia.org/wiki/Air_mass_(solar_energy)\n",
      "# The intensity of the direct component as a function of air mass is:\n",
      "\n",
      "# Intensity outside atmosphere:\n",
      "i_max = 1353\n",
      "\n",
      "def intensity(air_mass):\n",
      "    return i_max * pow(0.7, pow(air_mass, 0.678))\n",
      "\n",
      "plt.plot(angle, map(lambda x: intensity(air_mass(x)), angle))\n",
      "plt.xlabel('angle (radians)')\n",
      "plt.ylabel('intensity (W/m^2)')"
     ],
     "language": "python",
     "metadata": {},
     "outputs": [
      {
       "metadata": {},
       "output_type": "pyout",
       "prompt_number": 26,
       "text": [
        "<matplotlib.text.Text at 0x7f59737ad990>"
       ]
      },
      {
       "metadata": {},
       "output_type": "display_data",
       "png": "[encoded data removed]",
       "text": [
        "<matplotlib.figure.Figure at 0x7f5973b68790>"
       ]
      }
     ],
     "prompt_number": 26
    },
    {
     "cell_type": "heading",
     "level": 1,
     "metadata": {},
     "source": [
      "Sun incidence"
     ]
    },
    {
     "cell_type": "heading",
     "level": 2,
     "metadata": {},
     "source": [
      "Sun height and azimuth"
     ]
    },
    {
     "cell_type": "markdown",
     "metadata": {},
     "source": [
      "From: https://www.esrl.noaa.gov/gmd/grad/solcalc/solareqns.PDF\n",
      "        \n",
      "First, the fractional year (gamma) is calculated in radians\n"
     ]
    },
    {
     "cell_type": "code",
     "collapsed": false,
     "input": [
      "def gamma(day, hour):\n",
      "    return 2*pi/365*(day-1 + (hour-12)/24.)"
     ],
     "language": "python",
     "metadata": {},
     "outputs": [],
     "prompt_number": 78
    },
    {
     "cell_type": "markdown",
     "metadata": {},
     "source": [
      "From gamma, we can estimate the equation of time (in minutes) and the solar declination angle (radians)"
     ]
    },
    {
     "cell_type": "code",
     "collapsed": false,
     "input": [
      "def eq_time(gamma):\n",
      "    return 229.18*(0.000075+0.001868*cos(gamma)-0.032077*sin(gamma) \\\n",
      "                   -0.014615*cos(2*gamma)-0.040849*sin(2*gamma))\n",
      "\n",
      "def declination(gamma):\n",
      "    return 0.006918-0.399912*cos(gamma)+0.070257*sin(gamma) \\\n",
      "            -0.006758*cos(2*gamma) + 0.000907*sin(2*gamma) \\\n",
      "            -0.002697*cos(3*gamma) + 0.00148*sin(3*gamma)"
     ],
     "language": "python",
     "metadata": {},
     "outputs": [],
     "prompt_number": 80
    },
    {
     "cell_type": "markdown",
     "metadata": {},
     "source": [
      "Next, the true solar time is calculated in the following two equations. First the time offset is found, in minutes, and then the true solar time, in minutes."
     ]
    },
    {
     "cell_type": "code",
     "collapsed": false,
     "input": [
      "def time_offset(eq_time, longitude, timezone):\n",
      "    return eq_time - 4*longitude + 60*timezone"
     ],
     "language": "python",
     "metadata": {},
     "outputs": [],
     "prompt_number": 81
    },
    {
     "cell_type": "markdown",
     "metadata": {},
     "source": [
      "where eq_time is in minutes, longitude is in degrees, timezone is in hours from UTC (Mountain Standard Time = +7 hours)"
     ]
    },
    {
     "cell_type": "code",
     "collapsed": false,
     "input": [
      "def true_solar_time(hour, minute, second, time_offset):\n",
      "    return hour*60+minute+second/60. + time_offset"
     ],
     "language": "python",
     "metadata": {},
     "outputs": [],
     "prompt_number": 82
    },
    {
     "cell_type": "markdown",
     "metadata": {},
     "source": [
      "The solar hour angle, in randians, is"
     ]
    },
    {
     "cell_type": "code",
     "collapsed": false,
     "input": [
      "def hour_angle(true_solar_time):\n",
      "    return radians(true_solar_time/4.-180)"
     ],
     "language": "python",
     "metadata": {},
     "outputs": [],
     "prompt_number": 83
    },
    {
     "cell_type": "markdown",
     "metadata": {},
     "source": [
      "The solar zenith angle (phi) is "
     ]
    },
    {
     "cell_type": "code",
     "collapsed": false,
     "input": [
      "def zenith_angle(lat, decl, hour_angle):\n",
      "    result = acos(sin(lat)*sin(decl)+cos(lat)*cos(decl*cos(hour_angle)))\n",
      "    print 'zenith angle'\n",
      "    print degrees(result)\n",
      "    return result"
     ],
     "language": "python",
     "metadata": {},
     "outputs": [],
     "prompt_number": 84
    },
    {
     "cell_type": "markdown",
     "metadata": {},
     "source": [
      "And the solar azimuth (theta, clockwise from north) is:"
     ]
    },
    {
     "cell_type": "code",
     "collapsed": false,
     "input": [
      "def solar_azimuth(lat, decl, phi):\n",
      "    print 'azi'\n",
      "    print (sin(lat)*cos(phi)-sin(decl))/(cos(lat)*sin(phi))\n",
      "    return pi + acos((sin(lat)*cos(phi)-sin(decl))/(cos(lat)*sin(phi)))"
     ],
     "language": "python",
     "metadata": {},
     "outputs": [],
     "prompt_number": 85
    },
    {
     "cell_type": "markdown",
     "metadata": {},
     "source": [
      "Finally, from the latitude, longitude, timezone and time we can derived the sun position:"
     ]
    },
    {
     "cell_type": "code",
     "collapsed": false,
     "input": [
      "def get_sun_position(latitude, longitude, timezone, day, hour, minute, second):\n",
      "    the_gamma = gamma(day, hour)\n",
      "    print 'the gamma : {}'.format(the_gamma)\n",
      "    decl = declination(the_gamma)\n",
      "    print 'the declination in degrees: {}'.format(degrees(decl))\n",
      "    the_eq_time = eq_time(the_gamma)\n",
      "    print 'the eq time : {}'.format(the_eq_time)\n",
      "    the_time_offset = time_offset(the_eq_time, longitude, timezone)\n",
      "    print 'time offset : {}'.format(the_time_offset)\n",
      "    tst = true_solar_time(hour, minute, second, the_time_offset)\n",
      "    ha = hour_angle(tst)\n",
      "    print 'hour angle in degrees : {}'.format(degrees(ha))\n",
      "    phi=zenith_angle(latitude, decl, ha)\n",
      "    azimuth = solar_azimuth(latitude, decl, phi)\n",
      "    return map(degrees, [azimuth, phi])\n",
      "\n",
      "# get_sun_position(0.7, 0.1, 0, 183, 12, 0, 0)\n",
      "# day_time = range(12, 15)\n",
      "# plt.plot(day_time, map(lambda hour: get_sun_position(0.1, 0.1, 0, 175, hour, 0, 0)[0], day_time))\n",
      "days=range(365)\n",
      "gam=map(lambda day: gamma(day, 12), days)\n",
      "eq=map(lambda day: declination(gamma(day, 12)), days)\n",
      "plt.plot(days, eq)"
     ],
     "language": "python",
     "metadata": {},
     "outputs": [
      {
       "metadata": {},
       "output_type": "pyout",
       "prompt_number": 104,
       "text": [
        "[<matplotlib.lines.Line2D at 0x7f59732036d0>]"
       ]
      },
      {
       "metadata": {},
       "output_type": "display_data",
       "png": "[encoded data removed]",
       "text": [
        "<matplotlib.figure.Figure at 0x7f5991213c90>"
       ]
      }
     ],
     "prompt_number": 104
    },
    {
     "cell_type": "heading",
     "level": 1,
     "metadata": {},
     "source": [
      "Angle of incidence"
     ]
    },
    {
     "cell_type": "code",
     "collapsed": false,
     "input": [
      "# If light rays are not perpendicular to the surface they hit we need to take\n",
      "# into account the incidence angle:\n",
      "\n",
      "# \"angle\" is the angle between the ray and the normal to the surface\n",
      "def incidence_angle(angle):\n",
      "    return cos(angle)"
     ],
     "language": "python",
     "metadata": {},
     "outputs": [],
     "prompt_number": 27
    }
   ],
   "metadata": {}
  }
 ]
}